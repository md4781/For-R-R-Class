{
  "nbformat": 4,
  "nbformat_minor": 0,
  "metadata": {
    "colab": {
      "provenance": []
    },
    "kernelspec": {
      "name": "python3",
      "display_name": "Python 3"
    },
    "language_info": {
      "name": "python"
    }
  },
  "cells": [
    {
      "cell_type": "code",
      "source": [
        "date = \"November 1st\"\n",
        "x = 5\n",
        "y = 2\n",
        "print(date)\n",
        "print(x+y)"
      ],
      "metadata": {
        "colab": {
          "base_uri": "https://localhost:8080/"
        },
        "id": "nubmg7mh6tpU",
        "outputId": "6510f15e-3dd0-4d71-9f89-19a998d55e34"
      },
      "execution_count": 2,
      "outputs": [
        {
          "output_type": "stream",
          "name": "stdout",
          "text": [
            "November 1st\n",
            "7\n"
          ]
        }
      ]
    },
    {
      "cell_type": "markdown",
      "source": [
        "Using repositories and publishing work to GitHub helps with computational reproducibility since most studies have a computational aspect now, whether it is DNA or RNA sequencing, algorithms for data analysis, or something else, and it can be impossible to get the same results as someone else without using the same algorithm, code, etc. These files tend to be big and there can be many of them, but nonetheless, is important to upload all relevant files to a repository and provide a link so that others can access the same resources you used to get your results. It is also important to save versions of your code/software since changes or updates can impact the results one could get when using it, which would negatively affect the reproducibility of your research."
      ],
      "metadata": {
        "id": "hLj-lQTa69Ny"
      }
    }
  ]
}